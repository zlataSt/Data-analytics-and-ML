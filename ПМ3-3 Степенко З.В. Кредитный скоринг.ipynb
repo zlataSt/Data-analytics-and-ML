{
 "cells": [
  {
   "cell_type": "code",
   "execution_count": 469,
   "metadata": {},
   "outputs": [],
   "source": [
    "%matplotlib inline"
   ]
  },
  {
   "cell_type": "code",
   "execution_count": 470,
   "metadata": {},
   "outputs": [],
   "source": [
    "import pandas as pd\n",
    "import numpy as np\n",
    "import matplotlib.pyplot as plt"
   ]
  },
  {
   "cell_type": "code",
   "execution_count": 471,
   "metadata": {},
   "outputs": [],
   "source": [
    "import re\n",
    "import sklearn as sk\n",
    "import seaborn as sns"
   ]
  },
  {
   "cell_type": "code",
   "execution_count": 472,
   "metadata": {},
   "outputs": [],
   "source": [
    "import warnings\n",
    "warnings.filterwarnings('ignore')"
   ]
  },
  {
   "cell_type": "code",
   "execution_count": 473,
   "metadata": {},
   "outputs": [],
   "source": [
    "from sklearn import preprocessing as pr\n",
    "from sklearn.discriminant_analysis import LinearDiscriminantAnalysis as LDA\n",
    "from sklearn.linear_model import LogisticRegression\n",
    "from sklearn import metrics as mr"
   ]
  },
  {
   "cell_type": "code",
   "execution_count": 474,
   "metadata": {},
   "outputs": [],
   "source": [
    "from sklearn.ensemble import RandomForestClassifier\n",
    "from sklearn.model_selection import GridSearchCV, cross_val_score, StratifiedKFold, learning_curve\n",
    "from sklearn.ensemble.gradient_boosting import GradientBoostingClassifier"
   ]
  },
  {
   "cell_type": "code",
   "execution_count": 475,
   "metadata": {},
   "outputs": [],
   "source": [
    "from sklearn.model_selection import train_test_split"
   ]
  },
  {
   "cell_type": "markdown",
   "metadata": {},
   "source": [
    "## Просмотр, преобразование и чистка данных"
   ]
  },
  {
   "cell_type": "code",
   "execution_count": 413,
   "metadata": {},
   "outputs": [
    {
     "data": {
      "text/html": [
       "<div>\n",
       "<style scoped>\n",
       "    .dataframe tbody tr th:only-of-type {\n",
       "        vertical-align: middle;\n",
       "    }\n",
       "\n",
       "    .dataframe tbody tr th {\n",
       "        vertical-align: top;\n",
       "    }\n",
       "\n",
       "    .dataframe thead th {\n",
       "        text-align: right;\n",
       "    }\n",
       "</style>\n",
       "<table border=\"1\" class=\"dataframe\">\n",
       "  <thead>\n",
       "    <tr style=\"text-align: right;\">\n",
       "      <th></th>\n",
       "      <th>account</th>\n",
       "      <th>duration</th>\n",
       "      <th>credit_history</th>\n",
       "      <th>amount</th>\n",
       "      <th>savings</th>\n",
       "      <th>employment</th>\n",
       "      <th>guarantors</th>\n",
       "      <th>residence</th>\n",
       "      <th>age</th>\n",
       "      <th>credits_number</th>\n",
       "      <th>...</th>\n",
       "      <th>maintenance_people</th>\n",
       "      <th>telephone</th>\n",
       "      <th>foreign</th>\n",
       "      <th>real_estate</th>\n",
       "      <th>life_insurance</th>\n",
       "      <th>car</th>\n",
       "      <th>housing_rent</th>\n",
       "      <th>sex</th>\n",
       "      <th>purpose</th>\n",
       "      <th>target</th>\n",
       "    </tr>\n",
       "  </thead>\n",
       "  <tbody>\n",
       "    <tr>\n",
       "      <th>0</th>\n",
       "      <td>1.0</td>\n",
       "      <td>0,18</td>\n",
       "      <td>2.0</td>\n",
       "      <td>0,1311</td>\n",
       "      <td>2.0</td>\n",
       "      <td>2.0</td>\n",
       "      <td>1.0</td>\n",
       "      <td>4.0</td>\n",
       "      <td>0,34</td>\n",
       "      <td>1.0</td>\n",
       "      <td>...</td>\n",
       "      <td>1</td>\n",
       "      <td>0</td>\n",
       "      <td>1</td>\n",
       "      <td>0</td>\n",
       "      <td>0</td>\n",
       "      <td>1</td>\n",
       "      <td>0</td>\n",
       "      <td>1</td>\n",
       "      <td>business</td>\n",
       "      <td>1</td>\n",
       "    </tr>\n",
       "    <tr>\n",
       "      <th>1</th>\n",
       "      <td>-1.0</td>\n",
       "      <td>0,18</td>\n",
       "      <td>0.0</td>\n",
       "      <td>0,1552</td>\n",
       "      <td>1.0</td>\n",
       "      <td>3.0</td>\n",
       "      <td>1.0</td>\n",
       "      <td>1.0</td>\n",
       "      <td>0,31</td>\n",
       "      <td>1.0</td>\n",
       "      <td>...</td>\n",
       "      <td>1</td>\n",
       "      <td>1</td>\n",
       "      <td>1</td>\n",
       "      <td>0</td>\n",
       "      <td>1</td>\n",
       "      <td>0</td>\n",
       "      <td>0</td>\n",
       "      <td>1</td>\n",
       "      <td>business</td>\n",
       "      <td>1</td>\n",
       "    </tr>\n",
       "    <tr>\n",
       "      <th>2</th>\n",
       "      <td>-1.0</td>\n",
       "      <td>0,12</td>\n",
       "      <td>2.0</td>\n",
       "      <td>0,0451</td>\n",
       "      <td>1.0</td>\n",
       "      <td>3.0</td>\n",
       "      <td>1.0</td>\n",
       "      <td>4.0</td>\n",
       "      <td>0,21</td>\n",
       "      <td>1.0</td>\n",
       "      <td>...</td>\n",
       "      <td>1</td>\n",
       "      <td>0</td>\n",
       "      <td>1</td>\n",
       "      <td>0</td>\n",
       "      <td>1</td>\n",
       "      <td>0</td>\n",
       "      <td>1</td>\n",
       "      <td>1</td>\n",
       "      <td>retraining</td>\n",
       "      <td>0</td>\n",
       "    </tr>\n",
       "    <tr>\n",
       "      <th>3</th>\n",
       "      <td>-1.0</td>\n",
       "      <td>0,3</td>\n",
       "      <td>0.0</td>\n",
       "      <td>0,4036</td>\n",
       "      <td>0.0</td>\n",
       "      <td>1.0</td>\n",
       "      <td>1.0</td>\n",
       "      <td>3.0</td>\n",
       "      <td>0,25</td>\n",
       "      <td>3.0</td>\n",
       "      <td>...</td>\n",
       "      <td>1</td>\n",
       "      <td>0</td>\n",
       "      <td>1</td>\n",
       "      <td>0</td>\n",
       "      <td>0</td>\n",
       "      <td>1</td>\n",
       "      <td>0</td>\n",
       "      <td>1</td>\n",
       "      <td>business</td>\n",
       "      <td>1</td>\n",
       "    </tr>\n",
       "    <tr>\n",
       "      <th>4</th>\n",
       "      <td>0.0</td>\n",
       "      <td>0,36</td>\n",
       "      <td>2.0</td>\n",
       "      <td>0,09095</td>\n",
       "      <td>1.0</td>\n",
       "      <td>2.0</td>\n",
       "      <td>1.0</td>\n",
       "      <td>4.0</td>\n",
       "      <td>0,37</td>\n",
       "      <td>1.0</td>\n",
       "      <td>...</td>\n",
       "      <td>1</td>\n",
       "      <td>1</td>\n",
       "      <td>1</td>\n",
       "      <td>0</td>\n",
       "      <td>0</td>\n",
       "      <td>0</td>\n",
       "      <td>0</td>\n",
       "      <td>1</td>\n",
       "      <td>education</td>\n",
       "      <td>0</td>\n",
       "    </tr>\n",
       "  </tbody>\n",
       "</table>\n",
       "<p>5 rows × 21 columns</p>\n",
       "</div>"
      ],
      "text/plain": [
       "   account duration  credit_history   amount  savings  employment  guarantors  \\\n",
       "0      1.0     0,18             2.0   0,1311      2.0         2.0         1.0   \n",
       "1     -1.0     0,18             0.0   0,1552      1.0         3.0         1.0   \n",
       "2     -1.0     0,12             2.0   0,0451      1.0         3.0         1.0   \n",
       "3     -1.0      0,3             0.0   0,4036      0.0         1.0         1.0   \n",
       "4      0.0     0,36             2.0  0,09095      1.0         2.0         1.0   \n",
       "\n",
       "   residence   age  credits_number  ...  maintenance_people  telephone  \\\n",
       "0        4.0  0,34             1.0  ...                   1          0   \n",
       "1        1.0  0,31             1.0  ...                   1          1   \n",
       "2        4.0  0,21             1.0  ...                   1          0   \n",
       "3        3.0  0,25             3.0  ...                   1          0   \n",
       "4        4.0  0,37             1.0  ...                   1          1   \n",
       "\n",
       "   foreign  real_estate  life_insurance  car  housing_rent  sex     purpose  \\\n",
       "0        1            0               0    1             0    1    business   \n",
       "1        1            0               1    0             0    1    business   \n",
       "2        1            0               1    0             1    1  retraining   \n",
       "3        1            0               0    1             0    1    business   \n",
       "4        1            0               0    0             0    1   education   \n",
       "\n",
       "  target  \n",
       "0      1  \n",
       "1      1  \n",
       "2      0  \n",
       "3      1  \n",
       "4      0  \n",
       "\n",
       "[5 rows x 21 columns]"
      ]
     },
     "execution_count": 413,
     "metadata": {},
     "output_type": "execute_result"
    }
   ],
   "source": [
    "df = pd.read_csv('scoring.csv', sep = \";\", decimal = \".\")\n",
    "df.head()"
   ]
  },
  {
   "cell_type": "code",
   "execution_count": 414,
   "metadata": {},
   "outputs": [
    {
     "data": {
      "text/plain": [
       "(600, 21)"
      ]
     },
     "execution_count": 414,
     "metadata": {},
     "output_type": "execute_result"
    }
   ],
   "source": [
    "df.shape"
   ]
  },
  {
   "cell_type": "markdown",
   "metadata": {},
   "source": [
    "Имеем выборку с 600 элементами и 21 признаком. Целевым признаком является \"target\" - флаг, принимающий значение 0, если клиенту не следует выдавать кредит и 1 - если следует, по остальным 20 признакам необходимо спрогнозировать кредитоспособность потенциального заемщика."
   ]
  },
  {
   "cell_type": "code",
   "execution_count": 415,
   "metadata": {},
   "outputs": [
    {
     "data": {
      "text/plain": [
       "account               float64\n",
       "duration               object\n",
       "credit_history        float64\n",
       "amount                 object\n",
       "savings               float64\n",
       "employment            float64\n",
       "guarantors            float64\n",
       "residence             float64\n",
       "age                    object\n",
       "credits_number        float64\n",
       "job                   float64\n",
       "maintenance_people      int64\n",
       "telephone               int64\n",
       "foreign                 int64\n",
       "real_estate             int64\n",
       "life_insurance          int64\n",
       "car                     int64\n",
       "housing_rent            int64\n",
       "sex                     int64\n",
       "purpose                object\n",
       "target                  int64\n",
       "dtype: object"
      ]
     },
     "execution_count": 415,
     "metadata": {},
     "output_type": "execute_result"
    }
   ],
   "source": [
    "df.dtypes"
   ]
  },
  {
   "cell_type": "markdown",
   "metadata": {},
   "source": [
    "Видим, что элементы выборки в столбцах \"duration\", \"amount\" и \"age\" - десятичные числа, разделенные запятыми и потому имеют тип object. Изменим их формат на числа с плавающей точкой."
   ]
  },
  {
   "cell_type": "code",
   "execution_count": 416,
   "metadata": {},
   "outputs": [
    {
     "data": {
      "text/html": [
       "<div>\n",
       "<style scoped>\n",
       "    .dataframe tbody tr th:only-of-type {\n",
       "        vertical-align: middle;\n",
       "    }\n",
       "\n",
       "    .dataframe tbody tr th {\n",
       "        vertical-align: top;\n",
       "    }\n",
       "\n",
       "    .dataframe thead th {\n",
       "        text-align: right;\n",
       "    }\n",
       "</style>\n",
       "<table border=\"1\" class=\"dataframe\">\n",
       "  <thead>\n",
       "    <tr style=\"text-align: right;\">\n",
       "      <th></th>\n",
       "      <th>account</th>\n",
       "      <th>duration</th>\n",
       "      <th>credit_history</th>\n",
       "      <th>amount</th>\n",
       "      <th>savings</th>\n",
       "      <th>employment</th>\n",
       "      <th>guarantors</th>\n",
       "      <th>residence</th>\n",
       "      <th>age</th>\n",
       "      <th>credits_number</th>\n",
       "      <th>...</th>\n",
       "      <th>maintenance_people</th>\n",
       "      <th>telephone</th>\n",
       "      <th>foreign</th>\n",
       "      <th>real_estate</th>\n",
       "      <th>life_insurance</th>\n",
       "      <th>car</th>\n",
       "      <th>housing_rent</th>\n",
       "      <th>sex</th>\n",
       "      <th>purpose</th>\n",
       "      <th>target</th>\n",
       "    </tr>\n",
       "  </thead>\n",
       "  <tbody>\n",
       "    <tr>\n",
       "      <th>0</th>\n",
       "      <td>1.0</td>\n",
       "      <td>0.18</td>\n",
       "      <td>2.0</td>\n",
       "      <td>0.1311</td>\n",
       "      <td>2.0</td>\n",
       "      <td>2.0</td>\n",
       "      <td>1.0</td>\n",
       "      <td>4.0</td>\n",
       "      <td>0.34</td>\n",
       "      <td>1.0</td>\n",
       "      <td>...</td>\n",
       "      <td>1</td>\n",
       "      <td>0</td>\n",
       "      <td>1</td>\n",
       "      <td>0</td>\n",
       "      <td>0</td>\n",
       "      <td>1</td>\n",
       "      <td>0</td>\n",
       "      <td>1</td>\n",
       "      <td>business</td>\n",
       "      <td>1</td>\n",
       "    </tr>\n",
       "    <tr>\n",
       "      <th>1</th>\n",
       "      <td>-1.0</td>\n",
       "      <td>0.18</td>\n",
       "      <td>0.0</td>\n",
       "      <td>0.1552</td>\n",
       "      <td>1.0</td>\n",
       "      <td>3.0</td>\n",
       "      <td>1.0</td>\n",
       "      <td>1.0</td>\n",
       "      <td>0.31</td>\n",
       "      <td>1.0</td>\n",
       "      <td>...</td>\n",
       "      <td>1</td>\n",
       "      <td>1</td>\n",
       "      <td>1</td>\n",
       "      <td>0</td>\n",
       "      <td>1</td>\n",
       "      <td>0</td>\n",
       "      <td>0</td>\n",
       "      <td>1</td>\n",
       "      <td>business</td>\n",
       "      <td>1</td>\n",
       "    </tr>\n",
       "    <tr>\n",
       "      <th>2</th>\n",
       "      <td>-1.0</td>\n",
       "      <td>0.12</td>\n",
       "      <td>2.0</td>\n",
       "      <td>0.0451</td>\n",
       "      <td>1.0</td>\n",
       "      <td>3.0</td>\n",
       "      <td>1.0</td>\n",
       "      <td>4.0</td>\n",
       "      <td>0.21</td>\n",
       "      <td>1.0</td>\n",
       "      <td>...</td>\n",
       "      <td>1</td>\n",
       "      <td>0</td>\n",
       "      <td>1</td>\n",
       "      <td>0</td>\n",
       "      <td>1</td>\n",
       "      <td>0</td>\n",
       "      <td>1</td>\n",
       "      <td>1</td>\n",
       "      <td>retraining</td>\n",
       "      <td>0</td>\n",
       "    </tr>\n",
       "    <tr>\n",
       "      <th>3</th>\n",
       "      <td>-1.0</td>\n",
       "      <td>0.3</td>\n",
       "      <td>0.0</td>\n",
       "      <td>0.4036</td>\n",
       "      <td>0.0</td>\n",
       "      <td>1.0</td>\n",
       "      <td>1.0</td>\n",
       "      <td>3.0</td>\n",
       "      <td>0.25</td>\n",
       "      <td>3.0</td>\n",
       "      <td>...</td>\n",
       "      <td>1</td>\n",
       "      <td>0</td>\n",
       "      <td>1</td>\n",
       "      <td>0</td>\n",
       "      <td>0</td>\n",
       "      <td>1</td>\n",
       "      <td>0</td>\n",
       "      <td>1</td>\n",
       "      <td>business</td>\n",
       "      <td>1</td>\n",
       "    </tr>\n",
       "    <tr>\n",
       "      <th>4</th>\n",
       "      <td>0.0</td>\n",
       "      <td>0.36</td>\n",
       "      <td>2.0</td>\n",
       "      <td>0.09095</td>\n",
       "      <td>1.0</td>\n",
       "      <td>2.0</td>\n",
       "      <td>1.0</td>\n",
       "      <td>4.0</td>\n",
       "      <td>0.37</td>\n",
       "      <td>1.0</td>\n",
       "      <td>...</td>\n",
       "      <td>1</td>\n",
       "      <td>1</td>\n",
       "      <td>1</td>\n",
       "      <td>0</td>\n",
       "      <td>0</td>\n",
       "      <td>0</td>\n",
       "      <td>0</td>\n",
       "      <td>1</td>\n",
       "      <td>education</td>\n",
       "      <td>0</td>\n",
       "    </tr>\n",
       "    <tr>\n",
       "      <th>5</th>\n",
       "      <td>1.0</td>\n",
       "      <td>0.24</td>\n",
       "      <td>3.0</td>\n",
       "      <td>0.1032</td>\n",
       "      <td>1.0</td>\n",
       "      <td>0.0</td>\n",
       "      <td>1.0</td>\n",
       "      <td>2.0</td>\n",
       "      <td>0.34</td>\n",
       "      <td>1.0</td>\n",
       "      <td>...</td>\n",
       "      <td>1</td>\n",
       "      <td>1</td>\n",
       "      <td>1</td>\n",
       "      <td>0</td>\n",
       "      <td>1</td>\n",
       "      <td>0</td>\n",
       "      <td>0</td>\n",
       "      <td>0</td>\n",
       "      <td>furniture</td>\n",
       "      <td>0</td>\n",
       "    </tr>\n",
       "    <tr>\n",
       "      <th>6</th>\n",
       "      <td>1.0</td>\n",
       "      <td>0.09</td>\n",
       "      <td>4.0</td>\n",
       "      <td>0.07505</td>\n",
       "      <td>1.0</td>\n",
       "      <td>4.0</td>\n",
       "      <td>1.0</td>\n",
       "      <td>3.0</td>\n",
       "      <td>0.34</td>\n",
       "      <td>2.0</td>\n",
       "      <td>...</td>\n",
       "      <td>1</td>\n",
       "      <td>1</td>\n",
       "      <td>1</td>\n",
       "      <td>0</td>\n",
       "      <td>0</td>\n",
       "      <td>1</td>\n",
       "      <td>0</td>\n",
       "      <td>0</td>\n",
       "      <td>education</td>\n",
       "      <td>0</td>\n",
       "    </tr>\n",
       "    <tr>\n",
       "      <th>7</th>\n",
       "      <td>-1.0</td>\n",
       "      <td>0.12</td>\n",
       "      <td>2.0</td>\n",
       "      <td>0.045</td>\n",
       "      <td>0.0</td>\n",
       "      <td>2.0</td>\n",
       "      <td>1.0</td>\n",
       "      <td>2.0</td>\n",
       "      <td>0.23</td>\n",
       "      <td>1.0</td>\n",
       "      <td>...</td>\n",
       "      <td>1</td>\n",
       "      <td>0</td>\n",
       "      <td>1</td>\n",
       "      <td>0</td>\n",
       "      <td>0</td>\n",
       "      <td>1</td>\n",
       "      <td>0</td>\n",
       "      <td>1</td>\n",
       "      <td>car_new</td>\n",
       "      <td>0</td>\n",
       "    </tr>\n",
       "    <tr>\n",
       "      <th>8</th>\n",
       "      <td>1.0</td>\n",
       "      <td>0.36</td>\n",
       "      <td>3.0</td>\n",
       "      <td>0.4043</td>\n",
       "      <td>2.0</td>\n",
       "      <td>4.0</td>\n",
       "      <td>1.0</td>\n",
       "      <td>4.0</td>\n",
       "      <td>0.42</td>\n",
       "      <td>4.0</td>\n",
       "      <td>...</td>\n",
       "      <td>1</td>\n",
       "      <td>1</td>\n",
       "      <td>1</td>\n",
       "      <td>0</td>\n",
       "      <td>0</td>\n",
       "      <td>1</td>\n",
       "      <td>0</td>\n",
       "      <td>1</td>\n",
       "      <td>car_new</td>\n",
       "      <td>0</td>\n",
       "    </tr>\n",
       "    <tr>\n",
       "      <th>9</th>\n",
       "      <td>-1.0</td>\n",
       "      <td>0.42</td>\n",
       "      <td>3.0</td>\n",
       "      <td>0.2185</td>\n",
       "      <td>1.0</td>\n",
       "      <td>3.0</td>\n",
       "      <td>1.0</td>\n",
       "      <td>2.0</td>\n",
       "      <td>0.26</td>\n",
       "      <td>2.0</td>\n",
       "      <td>...</td>\n",
       "      <td>2</td>\n",
       "      <td>1</td>\n",
       "      <td>1</td>\n",
       "      <td>0</td>\n",
       "      <td>1</td>\n",
       "      <td>0</td>\n",
       "      <td>0</td>\n",
       "      <td>1</td>\n",
       "      <td>television</td>\n",
       "      <td>0</td>\n",
       "    </tr>\n",
       "  </tbody>\n",
       "</table>\n",
       "<p>10 rows × 21 columns</p>\n",
       "</div>"
      ],
      "text/plain": [
       "   account duration  credit_history   amount  savings  employment  guarantors  \\\n",
       "0      1.0     0.18             2.0   0.1311      2.0         2.0         1.0   \n",
       "1     -1.0     0.18             0.0   0.1552      1.0         3.0         1.0   \n",
       "2     -1.0     0.12             2.0   0.0451      1.0         3.0         1.0   \n",
       "3     -1.0      0.3             0.0   0.4036      0.0         1.0         1.0   \n",
       "4      0.0     0.36             2.0  0.09095      1.0         2.0         1.0   \n",
       "5      1.0     0.24             3.0   0.1032      1.0         0.0         1.0   \n",
       "6      1.0     0.09             4.0  0.07505      1.0         4.0         1.0   \n",
       "7     -1.0     0.12             2.0    0.045      0.0         2.0         1.0   \n",
       "8      1.0     0.36             3.0   0.4043      2.0         4.0         1.0   \n",
       "9     -1.0     0.42             3.0   0.2185      1.0         3.0         1.0   \n",
       "\n",
       "   residence   age  credits_number  ...  maintenance_people  telephone  \\\n",
       "0        4.0  0.34             1.0  ...                   1          0   \n",
       "1        1.0  0.31             1.0  ...                   1          1   \n",
       "2        4.0  0.21             1.0  ...                   1          0   \n",
       "3        3.0  0.25             3.0  ...                   1          0   \n",
       "4        4.0  0.37             1.0  ...                   1          1   \n",
       "5        2.0  0.34             1.0  ...                   1          1   \n",
       "6        3.0  0.34             2.0  ...                   1          1   \n",
       "7        2.0  0.23             1.0  ...                   1          0   \n",
       "8        4.0  0.42             4.0  ...                   1          1   \n",
       "9        2.0  0.26             2.0  ...                   2          1   \n",
       "\n",
       "   foreign  real_estate  life_insurance  car  housing_rent  sex     purpose  \\\n",
       "0        1            0               0    1             0    1    business   \n",
       "1        1            0               1    0             0    1    business   \n",
       "2        1            0               1    0             1    1  retraining   \n",
       "3        1            0               0    1             0    1    business   \n",
       "4        1            0               0    0             0    1   education   \n",
       "5        1            0               1    0             0    0   furniture   \n",
       "6        1            0               0    1             0    0   education   \n",
       "7        1            0               0    1             0    1     car_new   \n",
       "8        1            0               0    1             0    1     car_new   \n",
       "9        1            0               1    0             0    1  television   \n",
       "\n",
       "  target  \n",
       "0      1  \n",
       "1      1  \n",
       "2      0  \n",
       "3      1  \n",
       "4      0  \n",
       "5      0  \n",
       "6      0  \n",
       "7      0  \n",
       "8      0  \n",
       "9      0  \n",
       "\n",
       "[10 rows x 21 columns]"
      ]
     },
     "execution_count": 416,
     "metadata": {},
     "output_type": "execute_result"
    }
   ],
   "source": [
    "df['duration'] = df['duration'].str.replace(',','.')\n",
    "df['amount'] = df['amount'].str.replace(',','.')\n",
    "df['age'] = df['age'].str.replace(',','.')\n",
    "df.head(10)"
   ]
  },
  {
   "cell_type": "code",
   "execution_count": 417,
   "metadata": {},
   "outputs": [],
   "source": [
    "df['duration'] = df['duration'].astype(float)\n",
    "df['amount'] = df['amount'].astype(float)\n",
    "df['age'] = df['age'].astype(float)"
   ]
  },
  {
   "cell_type": "markdown",
   "metadata": {},
   "source": [
    "Кроме того, в наборе данных имеется категориальная переменная \"purpose\" (цель взятия кредита), преобразуем ее в количественную:"
   ]
  },
  {
   "cell_type": "code",
   "execution_count": 418,
   "metadata": {},
   "outputs": [
    {
     "data": {
      "text/plain": [
       "car_new                157\n",
       "television             143\n",
       "furniture              118\n",
       "business                61\n",
       "car_used                57\n",
       "education               31\n",
       "repairs                 13\n",
       "others                  10\n",
       "domestic_appliances      8\n",
       "retraining               2\n",
       "Name: purpose, dtype: int64"
      ]
     },
     "execution_count": 418,
     "metadata": {},
     "output_type": "execute_result"
    }
   ],
   "source": [
    "df[\"purpose\"].value_counts() # подсчет уникальных значений"
   ]
  },
  {
   "cell_type": "code",
   "execution_count": 419,
   "metadata": {},
   "outputs": [],
   "source": [
    "purposes = {\"purpose\": {\"car_new\":1, \"television\":2, \"furniture\":3, \"business\":4,\n",
    "            \"car_used\":5, \"education\":6, \"repairs\":7, \"others\":8, \"domestic_appliances\":9,\n",
    "            \"retraining\":10}} # словарь для замены категориального значения на количественное"
   ]
  },
  {
   "cell_type": "code",
   "execution_count": 420,
   "metadata": {},
   "outputs": [],
   "source": [
    "df.replace(purposes, inplace = True)"
   ]
  },
  {
   "cell_type": "code",
   "execution_count": 421,
   "metadata": {},
   "outputs": [
    {
     "data": {
      "text/plain": [
       "0     4\n",
       "1     4\n",
       "2    10\n",
       "3     4\n",
       "4     6\n",
       "5     3\n",
       "6     6\n",
       "7     1\n",
       "8     1\n",
       "9     2\n",
       "Name: purpose, dtype: int64"
      ]
     },
     "execution_count": 421,
     "metadata": {},
     "output_type": "execute_result"
    }
   ],
   "source": [
    "df[\"purpose\"].head(10)"
   ]
  },
  {
   "cell_type": "markdown",
   "metadata": {},
   "source": [
    "Теперь необходимо удалить строки, содержащие пропущенные данные, либо заполнить пропуски."
   ]
  },
  {
   "cell_type": "code",
   "execution_count": 422,
   "metadata": {},
   "outputs": [
    {
     "data": {
      "text/plain": [
       "account               1\n",
       "duration              1\n",
       "credit_history        1\n",
       "amount                3\n",
       "savings               2\n",
       "employment            2\n",
       "guarantors            3\n",
       "residence             1\n",
       "age                   3\n",
       "credits_number        2\n",
       "job                   2\n",
       "maintenance_people    0\n",
       "telephone             0\n",
       "foreign               0\n",
       "real_estate           0\n",
       "life_insurance        0\n",
       "car                   0\n",
       "housing_rent          0\n",
       "sex                   0\n",
       "purpose               0\n",
       "target                0\n",
       "dtype: int64"
      ]
     },
     "execution_count": 422,
     "metadata": {},
     "output_type": "execute_result"
    }
   ],
   "source": [
    "df.isnull().sum() # подсчет кол-ва пропущенных данных по столбцам"
   ]
  },
  {
   "cell_type": "code",
   "execution_count": 423,
   "metadata": {},
   "outputs": [
    {
     "data": {
      "text/html": [
       "<div>\n",
       "<style scoped>\n",
       "    .dataframe tbody tr th:only-of-type {\n",
       "        vertical-align: middle;\n",
       "    }\n",
       "\n",
       "    .dataframe tbody tr th {\n",
       "        vertical-align: top;\n",
       "    }\n",
       "\n",
       "    .dataframe thead th {\n",
       "        text-align: right;\n",
       "    }\n",
       "</style>\n",
       "<table border=\"1\" class=\"dataframe\">\n",
       "  <thead>\n",
       "    <tr style=\"text-align: right;\">\n",
       "      <th></th>\n",
       "      <th>account</th>\n",
       "      <th>duration</th>\n",
       "      <th>credit_history</th>\n",
       "      <th>amount</th>\n",
       "      <th>savings</th>\n",
       "      <th>employment</th>\n",
       "      <th>guarantors</th>\n",
       "      <th>residence</th>\n",
       "      <th>age</th>\n",
       "      <th>credits_number</th>\n",
       "      <th>...</th>\n",
       "      <th>maintenance_people</th>\n",
       "      <th>telephone</th>\n",
       "      <th>foreign</th>\n",
       "      <th>real_estate</th>\n",
       "      <th>life_insurance</th>\n",
       "      <th>car</th>\n",
       "      <th>housing_rent</th>\n",
       "      <th>sex</th>\n",
       "      <th>purpose</th>\n",
       "      <th>target</th>\n",
       "    </tr>\n",
       "  </thead>\n",
       "  <tbody>\n",
       "    <tr>\n",
       "      <th>0</th>\n",
       "      <td>1.0</td>\n",
       "      <td>0.18</td>\n",
       "      <td>2.0</td>\n",
       "      <td>0.13110</td>\n",
       "      <td>2.0</td>\n",
       "      <td>2.0</td>\n",
       "      <td>1.0</td>\n",
       "      <td>4.0</td>\n",
       "      <td>0.34</td>\n",
       "      <td>1.0</td>\n",
       "      <td>...</td>\n",
       "      <td>1</td>\n",
       "      <td>0</td>\n",
       "      <td>1</td>\n",
       "      <td>0</td>\n",
       "      <td>0</td>\n",
       "      <td>1</td>\n",
       "      <td>0</td>\n",
       "      <td>1</td>\n",
       "      <td>4</td>\n",
       "      <td>1</td>\n",
       "    </tr>\n",
       "    <tr>\n",
       "      <th>1</th>\n",
       "      <td>-1.0</td>\n",
       "      <td>0.18</td>\n",
       "      <td>0.0</td>\n",
       "      <td>0.15520</td>\n",
       "      <td>1.0</td>\n",
       "      <td>3.0</td>\n",
       "      <td>1.0</td>\n",
       "      <td>1.0</td>\n",
       "      <td>0.31</td>\n",
       "      <td>1.0</td>\n",
       "      <td>...</td>\n",
       "      <td>1</td>\n",
       "      <td>1</td>\n",
       "      <td>1</td>\n",
       "      <td>0</td>\n",
       "      <td>1</td>\n",
       "      <td>0</td>\n",
       "      <td>0</td>\n",
       "      <td>1</td>\n",
       "      <td>4</td>\n",
       "      <td>1</td>\n",
       "    </tr>\n",
       "    <tr>\n",
       "      <th>2</th>\n",
       "      <td>-1.0</td>\n",
       "      <td>0.12</td>\n",
       "      <td>2.0</td>\n",
       "      <td>0.04510</td>\n",
       "      <td>1.0</td>\n",
       "      <td>3.0</td>\n",
       "      <td>1.0</td>\n",
       "      <td>4.0</td>\n",
       "      <td>0.21</td>\n",
       "      <td>1.0</td>\n",
       "      <td>...</td>\n",
       "      <td>1</td>\n",
       "      <td>0</td>\n",
       "      <td>1</td>\n",
       "      <td>0</td>\n",
       "      <td>1</td>\n",
       "      <td>0</td>\n",
       "      <td>1</td>\n",
       "      <td>1</td>\n",
       "      <td>10</td>\n",
       "      <td>0</td>\n",
       "    </tr>\n",
       "    <tr>\n",
       "      <th>3</th>\n",
       "      <td>-1.0</td>\n",
       "      <td>0.30</td>\n",
       "      <td>0.0</td>\n",
       "      <td>0.40360</td>\n",
       "      <td>0.0</td>\n",
       "      <td>1.0</td>\n",
       "      <td>1.0</td>\n",
       "      <td>3.0</td>\n",
       "      <td>0.25</td>\n",
       "      <td>3.0</td>\n",
       "      <td>...</td>\n",
       "      <td>1</td>\n",
       "      <td>0</td>\n",
       "      <td>1</td>\n",
       "      <td>0</td>\n",
       "      <td>0</td>\n",
       "      <td>1</td>\n",
       "      <td>0</td>\n",
       "      <td>1</td>\n",
       "      <td>4</td>\n",
       "      <td>1</td>\n",
       "    </tr>\n",
       "    <tr>\n",
       "      <th>4</th>\n",
       "      <td>0.0</td>\n",
       "      <td>0.36</td>\n",
       "      <td>2.0</td>\n",
       "      <td>0.09095</td>\n",
       "      <td>1.0</td>\n",
       "      <td>2.0</td>\n",
       "      <td>1.0</td>\n",
       "      <td>4.0</td>\n",
       "      <td>0.37</td>\n",
       "      <td>1.0</td>\n",
       "      <td>...</td>\n",
       "      <td>1</td>\n",
       "      <td>1</td>\n",
       "      <td>1</td>\n",
       "      <td>0</td>\n",
       "      <td>0</td>\n",
       "      <td>0</td>\n",
       "      <td>0</td>\n",
       "      <td>1</td>\n",
       "      <td>6</td>\n",
       "      <td>0</td>\n",
       "    </tr>\n",
       "  </tbody>\n",
       "</table>\n",
       "<p>5 rows × 21 columns</p>\n",
       "</div>"
      ],
      "text/plain": [
       "   account  duration  credit_history   amount  savings  employment  \\\n",
       "0      1.0      0.18             2.0  0.13110      2.0         2.0   \n",
       "1     -1.0      0.18             0.0  0.15520      1.0         3.0   \n",
       "2     -1.0      0.12             2.0  0.04510      1.0         3.0   \n",
       "3     -1.0      0.30             0.0  0.40360      0.0         1.0   \n",
       "4      0.0      0.36             2.0  0.09095      1.0         2.0   \n",
       "\n",
       "   guarantors  residence   age  credits_number  ...  maintenance_people  \\\n",
       "0         1.0        4.0  0.34             1.0  ...                   1   \n",
       "1         1.0        1.0  0.31             1.0  ...                   1   \n",
       "2         1.0        4.0  0.21             1.0  ...                   1   \n",
       "3         1.0        3.0  0.25             3.0  ...                   1   \n",
       "4         1.0        4.0  0.37             1.0  ...                   1   \n",
       "\n",
       "   telephone  foreign  real_estate  life_insurance  car  housing_rent  sex  \\\n",
       "0          0        1            0               0    1             0    1   \n",
       "1          1        1            0               1    0             0    1   \n",
       "2          0        1            0               1    0             1    1   \n",
       "3          0        1            0               0    1             0    1   \n",
       "4          1        1            0               0    0             0    1   \n",
       "\n",
       "   purpose  target  \n",
       "0        4       1  \n",
       "1        4       1  \n",
       "2       10       0  \n",
       "3        4       1  \n",
       "4        6       0  \n",
       "\n",
       "[5 rows x 21 columns]"
      ]
     },
     "execution_count": 423,
     "metadata": {},
     "output_type": "execute_result"
    }
   ],
   "source": [
    "df = df.dropna() # удаление пропущенных значений\n",
    "df.head(5)"
   ]
  },
  {
   "cell_type": "code",
   "execution_count": 424,
   "metadata": {},
   "outputs": [
    {
     "data": {
      "text/plain": [
       "(array([], dtype=int64), array([], dtype=int64))"
      ]
     },
     "execution_count": 424,
     "metadata": {},
     "output_type": "execute_result"
    }
   ],
   "source": [
    "np.where(np.isnan(df))"
   ]
  },
  {
   "cell_type": "code",
   "execution_count": 425,
   "metadata": {},
   "outputs": [
    {
     "data": {
      "text/plain": [
       "account               float64\n",
       "duration              float64\n",
       "credit_history        float64\n",
       "amount                float64\n",
       "savings               float64\n",
       "employment            float64\n",
       "guarantors            float64\n",
       "residence             float64\n",
       "age                   float64\n",
       "credits_number        float64\n",
       "job                   float64\n",
       "maintenance_people      int64\n",
       "telephone               int64\n",
       "foreign                 int64\n",
       "real_estate             int64\n",
       "life_insurance          int64\n",
       "car                     int64\n",
       "housing_rent            int64\n",
       "sex                     int64\n",
       "purpose                 int64\n",
       "target                  int64\n",
       "dtype: object"
      ]
     },
     "execution_count": 425,
     "metadata": {},
     "output_type": "execute_result"
    }
   ],
   "source": [
    "df.dtypes # проверка типов данных после преобразований"
   ]
  },
  {
   "cell_type": "markdown",
   "metadata": {},
   "source": [
    "## Первичный анализ данных"
   ]
  },
  {
   "cell_type": "markdown",
   "metadata": {},
   "source": [
    "Посмотрим, насколько равномерно распределены данные по значению целевого признака:"
   ]
  },
  {
   "cell_type": "code",
   "execution_count": 426,
   "metadata": {},
   "outputs": [
    {
     "data": {
      "image/png": "[encoded data removed]",
      "text/plain": [
       "<Figure size 504x288 with 1 Axes>"
      ]
     },
     "metadata": {},
     "output_type": "display_data"
    }
   ],
   "source": [
    "ax = sns.countplot(x = df.target, palette=\"Set2\")\n",
    "sns.set(font_scale = 2)\n",
    "ax.set_ylim(top = 400)\n",
    "ax.set_xlabel('Кредитоспособность')\n",
    "ax.set_ylabel('Кол-во клиентов')\n",
    "fig = plt.gcf()\n",
    "fig.set_size_inches(7,4)\n",
    "plt.show()"
   ]
  },
  {
   "cell_type": "markdown",
   "metadata": {},
   "source": [
    "Построим корреляционную матрицу для всех признаков, включая целевой:"
   ]
  },
  {
   "cell_type": "code",
   "execution_count": 427,
   "metadata": {},
   "outputs": [
    {
     "data": {
      "text/html": [
       "<div>\n",
       "<style scoped>\n",
       "    .dataframe tbody tr th:only-of-type {\n",
       "        vertical-align: middle;\n",
       "    }\n",
       "\n",
       "    .dataframe tbody tr th {\n",
       "        vertical-align: top;\n",
       "    }\n",
       "\n",
       "    .dataframe thead th {\n",
       "        text-align: right;\n",
       "    }\n",
       "</style>\n",
       "<table border=\"1\" class=\"dataframe\">\n",
       "  <thead>\n",
       "    <tr style=\"text-align: right;\">\n",
       "      <th></th>\n",
       "      <th>account</th>\n",
       "      <th>duration</th>\n",
       "      <th>credit_history</th>\n",
       "      <th>amount</th>\n",
       "      <th>savings</th>\n",
       "      <th>employment</th>\n",
       "      <th>guarantors</th>\n",
       "      <th>residence</th>\n",
       "      <th>age</th>\n",
       "      <th>credits_number</th>\n",
       "      <th>...</th>\n",
       "      <th>maintenance_people</th>\n",
       "      <th>telephone</th>\n",
       "      <th>foreign</th>\n",
       "      <th>real_estate</th>\n",
       "      <th>life_insurance</th>\n",
       "      <th>car</th>\n",
       "      <th>housing_rent</th>\n",
       "      <th>sex</th>\n",
       "      <th>purpose</th>\n",
       "      <th>target</th>\n",
       "    </tr>\n",
       "  </thead>\n",
       "  <tbody>\n",
       "    <tr>\n",
       "      <th>account</th>\n",
       "      <td>1.000000</td>\n",
       "      <td>-0.034214</td>\n",
       "      <td>0.044208</td>\n",
       "      <td>0.009647</td>\n",
       "      <td>0.117255</td>\n",
       "      <td>-0.062857</td>\n",
       "      <td>0.033447</td>\n",
       "      <td>-0.131421</td>\n",
       "      <td>-0.006464</td>\n",
       "      <td>-0.020664</td>\n",
       "      <td>...</td>\n",
       "      <td>-0.051089</td>\n",
       "      <td>0.056325</td>\n",
       "      <td>0.025967</td>\n",
       "      <td>0.050372</td>\n",
       "      <td>-0.064790</td>\n",
       "      <td>-0.008893</td>\n",
       "      <td>-0.064072</td>\n",
       "      <td>0.014585</td>\n",
       "      <td>-0.018257</td>\n",
       "      <td>0.098449</td>\n",
       "    </tr>\n",
       "    <tr>\n",
       "      <th>duration</th>\n",
       "      <td>-0.034214</td>\n",
       "      <td>1.000000</td>\n",
       "      <td>-0.077569</td>\n",
       "      <td>0.589127</td>\n",
       "      <td>-0.056855</td>\n",
       "      <td>0.064673</td>\n",
       "      <td>-0.047008</td>\n",
       "      <td>0.075940</td>\n",
       "      <td>-0.015055</td>\n",
       "      <td>0.001249</td>\n",
       "      <td>...</td>\n",
       "      <td>0.007910</td>\n",
       "      <td>0.163970</td>\n",
       "      <td>0.167424</td>\n",
       "      <td>-0.279836</td>\n",
       "      <td>-0.029588</td>\n",
       "      <td>0.089502</td>\n",
       "      <td>-0.025396</td>\n",
       "      <td>0.086004</td>\n",
       "      <td>0.131958</td>\n",
       "      <td>-0.233925</td>\n",
       "    </tr>\n",
       "    <tr>\n",
       "      <th>credit_history</th>\n",
       "      <td>0.044208</td>\n",
       "      <td>-0.077569</td>\n",
       "      <td>1.000000</td>\n",
       "      <td>-0.046391</td>\n",
       "      <td>-0.011634</td>\n",
       "      <td>0.121169</td>\n",
       "      <td>-0.013611</td>\n",
       "      <td>0.039085</td>\n",
       "      <td>0.124737</td>\n",
       "      <td>0.349612</td>\n",
       "      <td>...</td>\n",
       "      <td>-0.007467</td>\n",
       "      <td>0.077955</td>\n",
       "      <td>-0.074836</td>\n",
       "      <td>0.083035</td>\n",
       "      <td>-0.036475</td>\n",
       "      <td>-0.010692</td>\n",
       "      <td>-0.117521</td>\n",
       "      <td>0.058276</td>\n",
       "      <td>-0.053305</td>\n",
       "      <td>0.226000</td>\n",
       "    </tr>\n",
       "    <tr>\n",
       "      <th>amount</th>\n",
       "      <td>0.009647</td>\n",
       "      <td>0.589127</td>\n",
       "      <td>-0.046391</td>\n",
       "      <td>1.000000</td>\n",
       "      <td>-0.122566</td>\n",
       "      <td>0.009279</td>\n",
       "      <td>-0.055475</td>\n",
       "      <td>0.060807</td>\n",
       "      <td>0.072723</td>\n",
       "      <td>0.052141</td>\n",
       "      <td>...</td>\n",
       "      <td>-0.020496</td>\n",
       "      <td>0.309975</td>\n",
       "      <td>0.080746</td>\n",
       "      <td>-0.274441</td>\n",
       "      <td>0.003765</td>\n",
       "      <td>0.039656</td>\n",
       "      <td>-0.019754</td>\n",
       "      <td>0.089211</td>\n",
       "      <td>0.167101</td>\n",
       "      <td>-0.140665</td>\n",
       "    </tr>\n",
       "    <tr>\n",
       "      <th>savings</th>\n",
       "      <td>0.117255</td>\n",
       "      <td>-0.056855</td>\n",
       "      <td>-0.011634</td>\n",
       "      <td>-0.122566</td>\n",
       "      <td>1.000000</td>\n",
       "      <td>0.012868</td>\n",
       "      <td>0.057112</td>\n",
       "      <td>-0.001260</td>\n",
       "      <td>-0.039609</td>\n",
       "      <td>-0.003503</td>\n",
       "      <td>...</td>\n",
       "      <td>-0.024257</td>\n",
       "      <td>-0.030690</td>\n",
       "      <td>0.030083</td>\n",
       "      <td>0.024133</td>\n",
       "      <td>-0.012229</td>\n",
       "      <td>-0.005930</td>\n",
       "      <td>0.011366</td>\n",
       "      <td>-0.011422</td>\n",
       "      <td>-0.000505</td>\n",
       "      <td>0.080130</td>\n",
       "    </tr>\n",
       "    <tr>\n",
       "      <th>employment</th>\n",
       "      <td>-0.062857</td>\n",
       "      <td>0.064673</td>\n",
       "      <td>0.121169</td>\n",
       "      <td>0.009279</td>\n",
       "      <td>0.012868</td>\n",
       "      <td>1.000000</td>\n",
       "      <td>-0.031408</td>\n",
       "      <td>0.244969</td>\n",
       "      <td>0.266683</td>\n",
       "      <td>0.094212</td>\n",
       "      <td>...</td>\n",
       "      <td>0.116950</td>\n",
       "      <td>0.070822</td>\n",
       "      <td>0.038857</td>\n",
       "      <td>-0.049217</td>\n",
       "      <td>-0.082556</td>\n",
       "      <td>0.005991</td>\n",
       "      <td>-0.121326</td>\n",
       "      <td>0.232892</td>\n",
       "      <td>0.026577</td>\n",
       "      <td>0.139069</td>\n",
       "    </tr>\n",
       "    <tr>\n",
       "      <th>guarantors</th>\n",
       "      <td>0.033447</td>\n",
       "      <td>-0.047008</td>\n",
       "      <td>-0.013611</td>\n",
       "      <td>-0.055475</td>\n",
       "      <td>0.057112</td>\n",
       "      <td>-0.031408</td>\n",
       "      <td>1.000000</td>\n",
       "      <td>0.029481</td>\n",
       "      <td>0.042366</td>\n",
       "      <td>-0.013754</td>\n",
       "      <td>...</td>\n",
       "      <td>0.027243</td>\n",
       "      <td>0.061031</td>\n",
       "      <td>0.066193</td>\n",
       "      <td>-0.113177</td>\n",
       "      <td>-0.013127</td>\n",
       "      <td>0.103130</td>\n",
       "      <td>-0.080103</td>\n",
       "      <td>-0.003573</td>\n",
       "      <td>0.048410</td>\n",
       "      <td>-0.013930</td>\n",
       "    </tr>\n",
       "    <tr>\n",
       "      <th>residence</th>\n",
       "      <td>-0.131421</td>\n",
       "      <td>0.075940</td>\n",
       "      <td>0.039085</td>\n",
       "      <td>0.060807</td>\n",
       "      <td>-0.001260</td>\n",
       "      <td>0.244969</td>\n",
       "      <td>0.029481</td>\n",
       "      <td>1.000000</td>\n",
       "      <td>0.254491</td>\n",
       "      <td>0.113956</td>\n",
       "      <td>...</td>\n",
       "      <td>0.053009</td>\n",
       "      <td>0.108375</td>\n",
       "      <td>0.013965</td>\n",
       "      <td>-0.148511</td>\n",
       "      <td>-0.033792</td>\n",
       "      <td>-0.036470</td>\n",
       "      <td>0.190852</td>\n",
       "      <td>-0.028064</td>\n",
       "      <td>0.122377</td>\n",
       "      <td>-0.032509</td>\n",
       "    </tr>\n",
       "    <tr>\n",
       "      <th>age</th>\n",
       "      <td>-0.006464</td>\n",
       "      <td>-0.015055</td>\n",
       "      <td>0.124737</td>\n",
       "      <td>0.072723</td>\n",
       "      <td>-0.039609</td>\n",
       "      <td>0.266683</td>\n",
       "      <td>0.042366</td>\n",
       "      <td>0.254491</td>\n",
       "      <td>1.000000</td>\n",
       "      <td>0.153727</td>\n",
       "      <td>...</td>\n",
       "      <td>0.131436</td>\n",
       "      <td>0.193625</td>\n",
       "      <td>-0.010634</td>\n",
       "      <td>0.006199</td>\n",
       "      <td>-0.032380</td>\n",
       "      <td>-0.171787</td>\n",
       "      <td>-0.222416</td>\n",
       "      <td>0.215671</td>\n",
       "      <td>0.069600</td>\n",
       "      <td>0.105768</td>\n",
       "    </tr>\n",
       "    <tr>\n",
       "      <th>credits_number</th>\n",
       "      <td>-0.020664</td>\n",
       "      <td>0.001249</td>\n",
       "      <td>0.349612</td>\n",
       "      <td>0.052141</td>\n",
       "      <td>-0.003503</td>\n",
       "      <td>0.094212</td>\n",
       "      <td>-0.013754</td>\n",
       "      <td>0.113956</td>\n",
       "      <td>0.153727</td>\n",
       "      <td>1.000000</td>\n",
       "      <td>...</td>\n",
       "      <td>0.098890</td>\n",
       "      <td>0.121161</td>\n",
       "      <td>-0.043607</td>\n",
       "      <td>0.002277</td>\n",
       "      <td>-0.048972</td>\n",
       "      <td>0.030866</td>\n",
       "      <td>-0.027774</td>\n",
       "      <td>0.085740</td>\n",
       "      <td>-0.015641</td>\n",
       "      <td>0.010553</td>\n",
       "    </tr>\n",
       "    <tr>\n",
       "      <th>job</th>\n",
       "      <td>-0.011038</td>\n",
       "      <td>0.220012</td>\n",
       "      <td>0.006245</td>\n",
       "      <td>0.314225</td>\n",
       "      <td>-0.051730</td>\n",
       "      <td>0.156183</td>\n",
       "      <td>0.006895</td>\n",
       "      <td>0.037501</td>\n",
       "      <td>0.036797</td>\n",
       "      <td>0.017899</td>\n",
       "      <td>...</td>\n",
       "      <td>-0.118905</td>\n",
       "      <td>0.372634</td>\n",
       "      <td>0.115525</td>\n",
       "      <td>-0.268251</td>\n",
       "      <td>-0.008401</td>\n",
       "      <td>0.134522</td>\n",
       "      <td>-0.038049</td>\n",
       "      <td>0.080381</td>\n",
       "      <td>0.142526</td>\n",
       "      <td>-0.042410</td>\n",
       "    </tr>\n",
       "    <tr>\n",
       "      <th>maintenance_people</th>\n",
       "      <td>-0.051089</td>\n",
       "      <td>0.007910</td>\n",
       "      <td>-0.007467</td>\n",
       "      <td>-0.020496</td>\n",
       "      <td>-0.024257</td>\n",
       "      <td>0.116950</td>\n",
       "      <td>0.027243</td>\n",
       "      <td>0.053009</td>\n",
       "      <td>0.131436</td>\n",
       "      <td>0.098890</td>\n",
       "      <td>...</td>\n",
       "      <td>1.000000</td>\n",
       "      <td>-0.092883</td>\n",
       "      <td>-0.101690</td>\n",
       "      <td>-0.007178</td>\n",
       "      <td>0.001853</td>\n",
       "      <td>-0.071945</td>\n",
       "      <td>-0.085866</td>\n",
       "      <td>0.183249</td>\n",
       "      <td>0.005296</td>\n",
       "      <td>-0.006568</td>\n",
       "    </tr>\n",
       "    <tr>\n",
       "      <th>telephone</th>\n",
       "      <td>0.056325</td>\n",
       "      <td>0.163970</td>\n",
       "      <td>0.077955</td>\n",
       "      <td>0.309975</td>\n",
       "      <td>-0.030690</td>\n",
       "      <td>0.070822</td>\n",
       "      <td>0.061031</td>\n",
       "      <td>0.108375</td>\n",
       "      <td>0.193625</td>\n",
       "      <td>0.121161</td>\n",
       "      <td>...</td>\n",
       "      <td>-0.092883</td>\n",
       "      <td>1.000000</td>\n",
       "      <td>0.094654</td>\n",
       "      <td>-0.148476</td>\n",
       "      <td>-0.012431</td>\n",
       "      <td>0.019565</td>\n",
       "      <td>-0.093851</td>\n",
       "      <td>0.089142</td>\n",
       "      <td>0.135079</td>\n",
       "      <td>0.030262</td>\n",
       "    </tr>\n",
       "    <tr>\n",
       "      <th>foreign</th>\n",
       "      <td>0.025967</td>\n",
       "      <td>0.167424</td>\n",
       "      <td>-0.074836</td>\n",
       "      <td>0.080746</td>\n",
       "      <td>0.030083</td>\n",
       "      <td>0.038857</td>\n",
       "      <td>0.066193</td>\n",
       "      <td>0.013965</td>\n",
       "      <td>-0.010634</td>\n",
       "      <td>-0.043607</td>\n",
       "      <td>...</td>\n",
       "      <td>-0.101690</td>\n",
       "      <td>0.094654</td>\n",
       "      <td>1.000000</td>\n",
       "      <td>-0.138052</td>\n",
       "      <td>-0.000817</td>\n",
       "      <td>0.078056</td>\n",
       "      <td>-0.053193</td>\n",
       "      <td>-0.064895</td>\n",
       "      <td>0.088509</td>\n",
       "      <td>-0.133594</td>\n",
       "    </tr>\n",
       "    <tr>\n",
       "      <th>real_estate</th>\n",
       "      <td>0.050372</td>\n",
       "      <td>-0.279836</td>\n",
       "      <td>0.083035</td>\n",
       "      <td>-0.274441</td>\n",
       "      <td>0.024133</td>\n",
       "      <td>-0.049217</td>\n",
       "      <td>-0.113177</td>\n",
       "      <td>-0.148511</td>\n",
       "      <td>0.006199</td>\n",
       "      <td>0.002277</td>\n",
       "      <td>...</td>\n",
       "      <td>-0.007178</td>\n",
       "      <td>-0.148476</td>\n",
       "      <td>-0.138052</td>\n",
       "      <td>1.000000</td>\n",
       "      <td>-0.305619</td>\n",
       "      <td>-0.447544</td>\n",
       "      <td>-0.021248</td>\n",
       "      <td>-0.049613</td>\n",
       "      <td>-0.080980</td>\n",
       "      <td>0.154981</td>\n",
       "    </tr>\n",
       "    <tr>\n",
       "      <th>life_insurance</th>\n",
       "      <td>-0.064790</td>\n",
       "      <td>-0.029588</td>\n",
       "      <td>-0.036475</td>\n",
       "      <td>0.003765</td>\n",
       "      <td>-0.012229</td>\n",
       "      <td>-0.082556</td>\n",
       "      <td>-0.013127</td>\n",
       "      <td>-0.033792</td>\n",
       "      <td>-0.032380</td>\n",
       "      <td>-0.048972</td>\n",
       "      <td>...</td>\n",
       "      <td>0.001853</td>\n",
       "      <td>-0.012431</td>\n",
       "      <td>-0.000817</td>\n",
       "      <td>-0.305619</td>\n",
       "      <td>1.000000</td>\n",
       "      <td>-0.362160</td>\n",
       "      <td>0.035184</td>\n",
       "      <td>-0.023485</td>\n",
       "      <td>-0.028249</td>\n",
       "      <td>-0.087385</td>\n",
       "    </tr>\n",
       "    <tr>\n",
       "      <th>car</th>\n",
       "      <td>-0.008893</td>\n",
       "      <td>0.089502</td>\n",
       "      <td>-0.010692</td>\n",
       "      <td>0.039656</td>\n",
       "      <td>-0.005930</td>\n",
       "      <td>0.005991</td>\n",
       "      <td>0.103130</td>\n",
       "      <td>-0.036470</td>\n",
       "      <td>-0.171787</td>\n",
       "      <td>0.030866</td>\n",
       "      <td>...</td>\n",
       "      <td>-0.071945</td>\n",
       "      <td>0.019565</td>\n",
       "      <td>0.078056</td>\n",
       "      <td>-0.447544</td>\n",
       "      <td>-0.362160</td>\n",
       "      <td>1.000000</td>\n",
       "      <td>0.035853</td>\n",
       "      <td>-0.007587</td>\n",
       "      <td>0.012229</td>\n",
       "      <td>0.023139</td>\n",
       "    </tr>\n",
       "    <tr>\n",
       "      <th>housing_rent</th>\n",
       "      <td>-0.064072</td>\n",
       "      <td>-0.025396</td>\n",
       "      <td>-0.117521</td>\n",
       "      <td>-0.019754</td>\n",
       "      <td>0.011366</td>\n",
       "      <td>-0.121326</td>\n",
       "      <td>-0.080103</td>\n",
       "      <td>0.190852</td>\n",
       "      <td>-0.222416</td>\n",
       "      <td>-0.027774</td>\n",
       "      <td>...</td>\n",
       "      <td>-0.085866</td>\n",
       "      <td>-0.093851</td>\n",
       "      <td>-0.053193</td>\n",
       "      <td>-0.021248</td>\n",
       "      <td>0.035184</td>\n",
       "      <td>0.035853</td>\n",
       "      <td>1.000000</td>\n",
       "      <td>-0.238518</td>\n",
       "      <td>0.032885</td>\n",
       "      <td>-0.119810</td>\n",
       "    </tr>\n",
       "    <tr>\n",
       "      <th>sex</th>\n",
       "      <td>0.014585</td>\n",
       "      <td>0.086004</td>\n",
       "      <td>0.058276</td>\n",
       "      <td>0.089211</td>\n",
       "      <td>-0.011422</td>\n",
       "      <td>0.232892</td>\n",
       "      <td>-0.003573</td>\n",
       "      <td>-0.028064</td>\n",
       "      <td>0.215671</td>\n",
       "      <td>0.085740</td>\n",
       "      <td>...</td>\n",
       "      <td>0.183249</td>\n",
       "      <td>0.089142</td>\n",
       "      <td>-0.064895</td>\n",
       "      <td>-0.049613</td>\n",
       "      <td>-0.023485</td>\n",
       "      <td>-0.007587</td>\n",
       "      <td>-0.238518</td>\n",
       "      <td>1.000000</td>\n",
       "      <td>-0.014062</td>\n",
       "      <td>0.126033</td>\n",
       "    </tr>\n",
       "    <tr>\n",
       "      <th>purpose</th>\n",
       "      <td>-0.018257</td>\n",
       "      <td>0.131958</td>\n",
       "      <td>-0.053305</td>\n",
       "      <td>0.167101</td>\n",
       "      <td>-0.000505</td>\n",
       "      <td>0.026577</td>\n",
       "      <td>0.048410</td>\n",
       "      <td>0.122377</td>\n",
       "      <td>0.069600</td>\n",
       "      <td>-0.015641</td>\n",
       "      <td>...</td>\n",
       "      <td>0.005296</td>\n",
       "      <td>0.135079</td>\n",
       "      <td>0.088509</td>\n",
       "      <td>-0.080980</td>\n",
       "      <td>-0.028249</td>\n",
       "      <td>0.012229</td>\n",
       "      <td>0.032885</td>\n",
       "      <td>-0.014062</td>\n",
       "      <td>1.000000</td>\n",
       "      <td>0.026015</td>\n",
       "    </tr>\n",
       "    <tr>\n",
       "      <th>target</th>\n",
       "      <td>0.098449</td>\n",
       "      <td>-0.233925</td>\n",
       "      <td>0.226000</td>\n",
       "      <td>-0.140665</td>\n",
       "      <td>0.080130</td>\n",
       "      <td>0.139069</td>\n",
       "      <td>-0.013930</td>\n",
       "      <td>-0.032509</td>\n",
       "      <td>0.105768</td>\n",
       "      <td>0.010553</td>\n",
       "      <td>...</td>\n",
       "      <td>-0.006568</td>\n",
       "      <td>0.030262</td>\n",
       "      <td>-0.133594</td>\n",
       "      <td>0.154981</td>\n",
       "      <td>-0.087385</td>\n",
       "      <td>0.023139</td>\n",
       "      <td>-0.119810</td>\n",
       "      <td>0.126033</td>\n",
       "      <td>0.026015</td>\n",
       "      <td>1.000000</td>\n",
       "    </tr>\n",
       "  </tbody>\n",
       "</table>\n",
       "<p>21 rows × 21 columns</p>\n",
       "</div>"
      ],
      "text/plain": [
       "                     account  duration  credit_history    amount   savings  \\\n",
       "account             1.000000 -0.034214        0.044208  0.009647  0.117255   \n",
       "duration           -0.034214  1.000000       -0.077569  0.589127 -0.056855   \n",
       "credit_history      0.044208 -0.077569        1.000000 -0.046391 -0.011634   \n",
       "amount              0.009647  0.589127       -0.046391  1.000000 -0.122566   \n",
       "savings             0.117255 -0.056855       -0.011634 -0.122566  1.000000   \n",
       "employment         -0.062857  0.064673        0.121169  0.009279  0.012868   \n",
       "guarantors          0.033447 -0.047008       -0.013611 -0.055475  0.057112   \n",
       "residence          -0.131421  0.075940        0.039085  0.060807 -0.001260   \n",
       "age                -0.006464 -0.015055        0.124737  0.072723 -0.039609   \n",
       "credits_number     -0.020664  0.001249        0.349612  0.052141 -0.003503   \n",
       "job                -0.011038  0.220012        0.006245  0.314225 -0.051730   \n",
       "maintenance_people -0.051089  0.007910       -0.007467 -0.020496 -0.024257   \n",
       "telephone           0.056325  0.163970        0.077955  0.309975 -0.030690   \n",
       "foreign             0.025967  0.167424       -0.074836  0.080746  0.030083   \n",
       "real_estate         0.050372 -0.279836        0.083035 -0.274441  0.024133   \n",
       "life_insurance     -0.064790 -0.029588       -0.036475  0.003765 -0.012229   \n",
       "car                -0.008893  0.089502       -0.010692  0.039656 -0.005930   \n",
       "housing_rent       -0.064072 -0.025396       -0.117521 -0.019754  0.011366   \n",
       "sex                 0.014585  0.086004        0.058276  0.089211 -0.011422   \n",
       "purpose            -0.018257  0.131958       -0.053305  0.167101 -0.000505   \n",
       "target              0.098449 -0.233925        0.226000 -0.140665  0.080130   \n",
       "\n",
       "                    employment  guarantors  residence       age  \\\n",
       "account              -0.062857    0.033447  -0.131421 -0.006464   \n",
       "duration              0.064673   -0.047008   0.075940 -0.015055   \n",
       "credit_history        0.121169   -0.013611   0.039085  0.124737   \n",
       "amount                0.009279   -0.055475   0.060807  0.072723   \n",
       "savings               0.012868    0.057112  -0.001260 -0.039609   \n",
       "employment            1.000000   -0.031408   0.244969  0.266683   \n",
       "guarantors           -0.031408    1.000000   0.029481  0.042366   \n",
       "residence             0.244969    0.029481   1.000000  0.254491   \n",
       "age                   0.266683    0.042366   0.254491  1.000000   \n",
       "credits_number        0.094212   -0.013754   0.113956  0.153727   \n",
       "job                   0.156183    0.006895   0.037501  0.036797   \n",
       "maintenance_people    0.116950    0.027243   0.053009  0.131436   \n",
       "telephone             0.070822    0.061031   0.108375  0.193625   \n",
       "foreign               0.038857    0.066193   0.013965 -0.010634   \n",
       "real_estate          -0.049217   -0.113177  -0.148511  0.006199   \n",
       "life_insurance       -0.082556   -0.013127  -0.033792 -0.032380   \n",
       "car                   0.005991    0.103130  -0.036470 -0.171787   \n",
       "housing_rent         -0.121326   -0.080103   0.190852 -0.222416   \n",
       "sex                   0.232892   -0.003573  -0.028064  0.215671   \n",
       "purpose               0.026577    0.048410   0.122377  0.069600   \n",
       "target                0.139069   -0.013930  -0.032509  0.105768   \n",
       "\n",
       "                    credits_number  ...  maintenance_people  telephone  \\\n",
       "account                  -0.020664  ...           -0.051089   0.056325   \n",
       "duration                  0.001249  ...            0.007910   0.163970   \n",
       "credit_history            0.349612  ...           -0.007467   0.077955   \n",
       "amount                    0.052141  ...           -0.020496   0.309975   \n",
       "savings                  -0.003503  ...           -0.024257  -0.030690   \n",
       "employment                0.094212  ...            0.116950   0.070822   \n",
       "guarantors               -0.013754  ...            0.027243   0.061031   \n",
       "residence                 0.113956  ...            0.053009   0.108375   \n",
       "age                       0.153727  ...            0.131436   0.193625   \n",
       "credits_number            1.000000  ...            0.098890   0.121161   \n",
       "job                       0.017899  ...           -0.118905   0.372634   \n",
       "maintenance_people        0.098890  ...            1.000000  -0.092883   \n",
       "telephone                 0.121161  ...           -0.092883   1.000000   \n",
       "foreign                  -0.043607  ...           -0.101690   0.094654   \n",
       "real_estate               0.002277  ...           -0.007178  -0.148476   \n",
       "life_insurance           -0.048972  ...            0.001853  -0.012431   \n",
       "car                       0.030866  ...           -0.071945   0.019565   \n",
       "housing_rent             -0.027774  ...           -0.085866  -0.093851   \n",
       "sex                       0.085740  ...            0.183249   0.089142   \n",
       "purpose                  -0.015641  ...            0.005296   0.135079   \n",
       "target                    0.010553  ...           -0.006568   0.030262   \n",
       "\n",
       "                     foreign  real_estate  life_insurance       car  \\\n",
       "account             0.025967     0.050372       -0.064790 -0.008893   \n",
       "duration            0.167424    -0.279836       -0.029588  0.089502   \n",
       "credit_history     -0.074836     0.083035       -0.036475 -0.010692   \n",
       "amount              0.080746    -0.274441        0.003765  0.039656   \n",
       "savings             0.030083     0.024133       -0.012229 -0.005930   \n",
       "employment          0.038857    -0.049217       -0.082556  0.005991   \n",
       "guarantors          0.066193    -0.113177       -0.013127  0.103130   \n",
       "residence           0.013965    -0.148511       -0.033792 -0.036470   \n",
       "age                -0.010634     0.006199       -0.032380 -0.171787   \n",
       "credits_number     -0.043607     0.002277       -0.048972  0.030866   \n",
       "job                 0.115525    -0.268251       -0.008401  0.134522   \n",
       "maintenance_people -0.101690    -0.007178        0.001853 -0.071945   \n",
       "telephone           0.094654    -0.148476       -0.012431  0.019565   \n",
       "foreign             1.000000    -0.138052       -0.000817  0.078056   \n",
       "real_estate        -0.138052     1.000000       -0.305619 -0.447544   \n",
       "life_insurance     -0.000817    -0.305619        1.000000 -0.362160   \n",
       "car                 0.078056    -0.447544       -0.362160  1.000000   \n",
       "housing_rent       -0.053193    -0.021248        0.035184  0.035853   \n",
       "sex                -0.064895    -0.049613       -0.023485 -0.007587   \n",
       "purpose             0.088509    -0.080980       -0.028249  0.012229   \n",
       "target             -0.133594     0.154981       -0.087385  0.023139   \n",
       "\n",
       "                    housing_rent       sex   purpose    target  \n",
       "account                -0.064072  0.014585 -0.018257  0.098449  \n",
       "duration               -0.025396  0.086004  0.131958 -0.233925  \n",
       "credit_history         -0.117521  0.058276 -0.053305  0.226000  \n",
       "amount                 -0.019754  0.089211  0.167101 -0.140665  \n",
       "savings                 0.011366 -0.011422 -0.000505  0.080130  \n",
       "employment             -0.121326  0.232892  0.026577  0.139069  \n",
       "guarantors             -0.080103 -0.003573  0.048410 -0.013930  \n",
       "residence               0.190852 -0.028064  0.122377 -0.032509  \n",
       "age                    -0.222416  0.215671  0.069600  0.105768  \n",
       "credits_number         -0.027774  0.085740 -0.015641  0.010553  \n",
       "job                    -0.038049  0.080381  0.142526 -0.042410  \n",
       "maintenance_people     -0.085866  0.183249  0.005296 -0.006568  \n",
       "telephone              -0.093851  0.089142  0.135079  0.030262  \n",
       "foreign                -0.053193 -0.064895  0.088509 -0.133594  \n",
       "real_estate            -0.021248 -0.049613 -0.080980  0.154981  \n",
       "life_insurance          0.035184 -0.023485 -0.028249 -0.087385  \n",
       "car                     0.035853 -0.007587  0.012229  0.023139  \n",
       "housing_rent            1.000000 -0.238518  0.032885 -0.119810  \n",
       "sex                    -0.238518  1.000000 -0.014062  0.126033  \n",
       "purpose                 0.032885 -0.014062  1.000000  0.026015  \n",
       "target                 -0.119810  0.126033  0.026015  1.000000  \n",
       "\n",
       "[21 rows x 21 columns]"
      ]
     },
     "execution_count": 427,
     "metadata": {},
     "output_type": "execute_result"
    }
   ],
   "source": [
    "df.corr(method='pearson')"
   ]
  },
  {
   "cell_type": "code",
   "execution_count": 428,
   "metadata": {},
   "outputs": [
    {
     "data": {
      "image/png": "[encoded data removed]",
      "text/plain": [
       "<Figure size 432x288 with 2 Axes>"
      ]
     },
     "metadata": {},
     "output_type": "display_data"
    }
   ],
   "source": [
    "sns.set(font_scale = 0.8)\n",
    "corrMatrix = sns.heatmap(df.corr(), annot = False, cmap = \"coolwarm\")"
   ]
  },
  {
   "cell_type": "markdown",
   "metadata": {},
   "source": [
    "Убеждаемся в том, что признаки практически не коррелируют друг с другом (почти все парные коэффициенты корреляции $<0,25$).\n",
    "   Рассмотрим статистическую информацию по каждому признаку:"
   ]
  },
  {
   "cell_type": "code",
   "execution_count": 429,
   "metadata": {},
   "outputs": [
    {
     "name": "stdout",
     "output_type": "stream",
     "text": [
      "count    580.000000\n",
      "mean       0.075862\n",
      "std        0.916800\n",
      "min       -1.000000\n",
      "25%       -1.000000\n",
      "50%        0.000000\n",
      "75%        1.000000\n",
      "max        2.000000\n",
      "Name: account, dtype: float64\n",
      "count    580.000000\n",
      "mean       0.217000\n",
      "std        0.126531\n",
      "min        0.040000\n",
      "25%        0.120000\n",
      "50%        0.180000\n",
      "75%        0.262500\n",
      "max        0.720000\n",
      "Name: duration, dtype: float64\n",
      "count    580.000000\n",
      "mean       2.418966\n",
      "std        1.089431\n",
      "min        0.000000\n",
      "25%        2.000000\n",
      "50%        2.000000\n",
      "75%        4.000000\n",
      "max        4.000000\n",
      "Name: credit_history, dtype: float64\n",
      "count    580.000000\n",
      "mean       0.170194\n",
      "std        0.149179\n",
      "min        0.012500\n",
      "25%        0.067238\n",
      "50%        0.116300\n",
      "75%        0.214250\n",
      "max        0.797250\n",
      "Name: amount, dtype: float64\n",
      "count    580.000000\n",
      "mean       1.196552\n",
      "std        0.921433\n",
      "min        0.000000\n",
      "25%        1.000000\n",
      "50%        1.000000\n",
      "75%        1.000000\n",
      "max        4.000000\n",
      "Name: savings, dtype: float64\n",
      "count    580.000000\n",
      "mean       2.348276\n",
      "std        1.208525\n",
      "min        0.000000\n",
      "25%        2.000000\n",
      "50%        2.000000\n",
      "75%        3.000000\n",
      "max        4.000000\n",
      "Name: employment, dtype: float64\n",
      "count    580.000000\n",
      "mean       0.903448\n",
      "std        0.295601\n",
      "min        0.000000\n",
      "25%        1.000000\n",
      "50%        1.000000\n",
      "75%        1.000000\n",
      "max        1.000000\n",
      "Name: guarantors, dtype: float64\n",
      "count    580.000000\n",
      "mean       2.831034\n",
      "std        1.097525\n",
      "min        1.000000\n",
      "25%        2.000000\n",
      "50%        3.000000\n",
      "75%        4.000000\n",
      "max        4.000000\n",
      "Name: residence, dtype: float64\n",
      "count    580.000000\n",
      "mean       0.351121\n",
      "std        0.113466\n",
      "min        0.190000\n",
      "25%        0.260000\n",
      "50%        0.330000\n",
      "75%        0.410000\n",
      "max        0.750000\n",
      "Name: age, dtype: float64\n",
      "count    580.000000\n",
      "mean       1.368966\n",
      "std        0.568368\n",
      "min        1.000000\n",
      "25%        1.000000\n",
      "50%        1.000000\n",
      "75%        2.000000\n",
      "max        4.000000\n",
      "Name: credits_number, dtype: float64\n",
      "count    580.000000\n",
      "mean       1.906897\n",
      "std        0.666199\n",
      "min        0.000000\n",
      "25%        2.000000\n",
      "50%        2.000000\n",
      "75%        2.000000\n",
      "max        3.000000\n",
      "Name: job, dtype: float64\n",
      "count    580.000000\n",
      "mean       1.155172\n",
      "std        0.362381\n",
      "min        1.000000\n",
      "25%        1.000000\n",
      "50%        1.000000\n",
      "75%        1.000000\n",
      "max        2.000000\n",
      "Name: maintenance_people, dtype: float64\n",
      "count    580.000000\n",
      "mean       0.394828\n",
      "std        0.489236\n",
      "min        0.000000\n",
      "25%        0.000000\n",
      "50%        0.000000\n",
      "75%        1.000000\n",
      "max        1.000000\n",
      "Name: telephone, dtype: float64\n",
      "count    580.000000\n",
      "mean       0.965517\n",
      "std        0.182623\n",
      "min        0.000000\n",
      "25%        1.000000\n",
      "50%        1.000000\n",
      "75%        1.000000\n",
      "max        1.000000\n",
      "Name: foreign, dtype: float64\n",
      "count    580.000000\n",
      "mean       0.274138\n",
      "std        0.446464\n",
      "min        0.000000\n",
      "25%        0.000000\n",
      "50%        0.000000\n",
      "75%        1.000000\n",
      "max        1.000000\n",
      "Name: real_estate, dtype: float64\n",
      "count    580.000000\n",
      "mean       0.198276\n",
      "std        0.399045\n",
      "min        0.000000\n",
      "25%        0.000000\n",
      "50%        0.000000\n",
      "75%        0.000000\n",
      "max        1.000000\n",
      "Name: life_insurance, dtype: float64\n",
      "count    580.000000\n",
      "mean       0.346552\n",
      "std        0.476282\n",
      "min        0.000000\n",
      "25%        0.000000\n",
      "50%        0.000000\n",
      "75%        1.000000\n",
      "max        1.000000\n",
      "Name: car, dtype: float64\n",
      "count    580.000000\n",
      "mean       0.189655\n",
      "std        0.392367\n",
      "min        0.000000\n",
      "25%        0.000000\n",
      "50%        0.000000\n",
      "75%        0.000000\n",
      "max        1.000000\n",
      "Name: housing_rent, dtype: float64\n",
      "count    580.000000\n",
      "mean       0.691379\n",
      "std        0.462323\n",
      "min        0.000000\n",
      "25%        0.000000\n",
      "50%        1.000000\n",
      "75%        1.000000\n",
      "max        1.000000\n",
      "Name: sex, dtype: float64\n",
      "count    580.000000\n",
      "mean       2.943103\n",
      "std        1.908585\n",
      "min        1.000000\n",
      "25%        1.000000\n",
      "50%        2.000000\n",
      "75%        4.000000\n",
      "max       10.000000\n",
      "Name: purpose, dtype: float64\n",
      "count    580.000000\n",
      "mean       0.496552\n",
      "std        0.500420\n",
      "min        0.000000\n",
      "25%        0.000000\n",
      "50%        0.000000\n",
      "75%        1.000000\n",
      "max        1.000000\n",
      "Name: target, dtype: float64\n"
     ]
    }
   ],
   "source": [
    "for i in df.columns:\n",
    "    print(df[i].describe())"
   ]
  },
  {
   "cell_type": "markdown",
   "metadata": {},
   "source": [
    "Построим гистограммы, показывающие вероятность клиента оказаться надежным для банка, при различных значениях нецелевых признаков. Если высота столбцов будет близка к равномерной, то значение признака не оказывает значительного влияния на значение целевого признака."
   ]
  },
  {
   "cell_type": "code",
   "execution_count": 430,
   "metadata": {},
   "outputs": [
    {
     "data": {
      "image/png": "[encoded data removed]",
      "text/plain": [
       "<Figure size 432x432 with 1 Axes>"
      ]
     },
     "metadata": {},
     "output_type": "display_data"
    },
    {
     "data": {
      "image/png": "[encoded data removed]",
      "text/plain": [
       "<Figure size 432x432 with 1 Axes>"
      ]
     },
     "metadata": {},
     "output_type": "display_data"
    },
    {
     "data": {
      "image/png": "[encoded data removed]",
      "text/plain": [
       "<Figure size 432x432 with 1 Axes>"
      ]
     },
     "metadata": {},
     "output_type": "display_data"
    },
    {
     "data": {
      "image/png": "[encoded data removed]",
      "text/plain": [
       "<Figure size 432x432 with 1 Axes>"
      ]
     },
     "metadata": {},
     "output_type": "display_data"
    },
    {
     "data": {
      "image/png": "[encoded data removed]",
      "text/plain": [
       "<Figure size 432x432 with 1 Axes>"
      ]
     },
     "metadata": {},
     "output_type": "display_data"
    },
    {
     "data": {
      "image/png": "[encoded data removed]",
      "text/plain": [
       "<Figure size 432x432 with 1 Axes>"
      ]
     },
     "metadata": {},
     "output_type": "display_data"
    },
    {
     "data": {
      "image/png": "[encoded data removed]",
      "text/plain": [
       "<Figure size 432x432 with 1 Axes>"
      ]
     },
     "metadata": {},
     "output_type": "display_data"
    },
    {
     "data": {
      "image/png": "[encoded data removed]",
      "text/plain": [
       "<Figure size 432x432 with 1 Axes>"
      ]
     },
     "metadata": {},
     "output_type": "display_data"
    },
    {
     "data": {
      "image/png": "[encoded data removed]",
      "text/plain": [
       "<Figure size 432x432 with 1 Axes>"
      ]
     },
     "metadata": {},
     "output_type": "display_data"
    },
    {
     "data": {
      "image/png": "[encoded data removed]",
      "text/plain": [
       "<Figure size 432x432 with 1 Axes>"
      ]
     },
     "metadata": {},
     "output_type": "display_data"
    },
    {
     "data": {
      "image/png": "[encoded data removed]",
      "text/plain": [
       "<Figure size 432x432 with 1 Axes>"
      ]
     },
     "metadata": {},
     "output_type": "display_data"
    },
    {
     "data": {
      "image/png": "[encoded data removed]",
      "text/plain": [
       "<Figure size 432x432 with 1 Axes>"
      ]
     },
     "metadata": {},
     "output_type": "display_data"
    },
    {
     "data": {
      "image/png": "[encoded data removed]",
      "text/plain": [
       "<Figure size 432x432 with 1 Axes>"
      ]
     },
     "metadata": {},
     "output_type": "display_data"
    },
    {
     "data": {
      "image/png": "[encoded data removed]",
      "text/plain": [
       "<Figure size 432x432 with 1 Axes>"
      ]
     },
     "metadata": {},
     "output_type": "display_data"
    },
    {
     "data": {
      "image/png": "[encoded data removed]",
      "text/plain": [
       "<Figure size 432x432 with 1 Axes>"
      ]
     },
     "metadata": {},
     "output_type": "display_data"
    },
    {
     "data": {
      "image/png": "[encoded data removed]",
      "text/plain": [
       "<Figure size 432x432 with 1 Axes>"
      ]
     },
     "metadata": {},
     "output_type": "display_data"
    }
   ],
   "source": [
    "categorical = [\"account\", \"credit_history\", \"savings\", \"employment\", \"guarantors\", \n",
    "               \"residence\", \"credits_number\", \"job\", \"maintenance_people\",\n",
    "               \"telephone\", \"foreign\", \"real_estate\", \"life_insurance\", \"car\",\n",
    "               \"housing_rent\", \"purpose\"]\n",
    "for category in categorical:\n",
    "    g = sns.factorplot(x = category, y = \"target\", data = df, kind = \"bar\", \n",
    "                       size = 6, palette = \"dark\")\n",
    "    g.despine(left = True)\n",
    "    g = g.set_ylabels(\"Вероятность возврата кредита\")"
   ]
  },
  {
   "cell_type": "markdown",
   "metadata": {},
   "source": [
    "## Логистическая регрессия"
   ]
  },
  {
   "cell_type": "markdown",
   "metadata": {},
   "source": [
    "Создаем датафрейм с регрессорами (все столбцы набора данных кроме последнего) и со значениями целевого признака:"
   ]
  },
  {
   "cell_type": "code",
   "execution_count": 383,
   "metadata": {},
   "outputs": [],
   "source": [
    "x = df.iloc[:, 0:20].values\n",
    "y = df.iloc[:, 20].values"
   ]
  },
  {
   "cell_type": "markdown",
   "metadata": {},
   "source": [
    "Разделим данные на 2 составляющие: обучающую (75%) и тестовую (25%) выборки:"
   ]
  },
  {
   "cell_type": "code",
   "execution_count": 432,
   "metadata": {},
   "outputs": [],
   "source": [
    "X_train, X_test, Y_train, Y_test = train_test_split(x, y, test_size = 0.25, random_state = 0)\n",
    "#sc = pr.StandardScaler()\n",
    "#X_train = sc.fit_transform(X_train)\n",
    "#X_test = sc.transform(X_test)"
   ]
  },
  {
   "cell_type": "code",
   "execution_count": 433,
   "metadata": {},
   "outputs": [
    {
     "data": {
      "text/plain": [
       "(array([], dtype=int64), array([], dtype=int64))"
      ]
     },
     "execution_count": 433,
     "metadata": {},
     "output_type": "execute_result"
    }
   ],
   "source": [
    "# lda = LDA(n_components = 2)\n",
    "np.where(np.isnan(X_train))"
   ]
  },
  {
   "cell_type": "code",
   "execution_count": 434,
   "metadata": {},
   "outputs": [
    {
     "data": {
      "text/plain": [
       "(array([1, 0, 1, 0, 1, 1, 0, 0, 0, 0, 1, 0, 1, 1, 1, 1, 0, 0, 1, 0, 0, 0,\n",
       "        0, 0, 1, 0, 1, 1, 0, 1, 0, 0, 1, 0, 1, 0, 0, 1, 1, 1, 1, 1, 0, 0,\n",
       "        1, 1, 1, 0, 0, 0, 0, 1, 1, 1, 0, 0, 1, 1, 1, 0, 0, 0, 0, 0, 0, 0,\n",
       "        1, 1, 1, 1, 0, 1, 0, 0, 1, 1, 1, 0, 0, 0, 0, 0, 1, 0, 1, 0, 1, 0,\n",
       "        1, 1, 1, 0, 1, 0, 0, 0, 1, 0, 1, 1, 0, 0, 1, 1, 1, 0, 1, 0, 0, 0,\n",
       "        1, 0, 0, 0, 0, 1, 1, 0, 0, 1, 1, 0, 1, 0, 1, 1, 0, 1, 1, 1, 1, 0,\n",
       "        0, 0, 0, 1, 0, 0, 1, 1, 1, 1, 1, 1, 0], dtype=int64),\n",
       " array([1, 0, 1, 0, 0, 1, 0, 1, 0, 1, 1, 1, 0, 0, 1, 1, 0, 0, 1, 1, 0, 0,\n",
       "        0, 0, 1, 1, 1, 1, 1, 0, 0, 0, 1, 0, 1, 1, 1, 0, 1, 0, 0, 1, 1, 1,\n",
       "        1, 1, 0, 1, 0, 1, 0, 1, 0, 0, 0, 0, 1, 1, 0, 1, 1, 1, 1, 0, 1, 1,\n",
       "        1, 1, 1, 1, 1, 0, 1, 0, 1, 1, 0, 0, 0, 1, 1, 1, 1, 0, 1, 0, 1, 1,\n",
       "        1, 0, 1, 0, 1, 0, 0, 0, 1, 1, 1, 1, 0, 0, 1, 1, 1, 0, 1, 1, 0, 0,\n",
       "        0, 1, 0, 0, 0, 1, 1, 0, 0, 1, 1, 0, 1, 0, 1, 1, 0, 0, 1, 0, 1, 1,\n",
       "        1, 1, 0, 1, 0, 0, 0, 1, 1, 1, 1, 1, 0], dtype=int64))"
      ]
     },
     "execution_count": 434,
     "metadata": {},
     "output_type": "execute_result"
    }
   ],
   "source": [
    "classifier = LogisticRegression()\n",
    "classifier.fit(X_train, Y_train)\n",
    "y_pred = classifier.predict(X_test)\n",
    "y_pred, Y_test"
   ]
  },
  {
   "cell_type": "code",
   "execution_count": 438,
   "metadata": {},
   "outputs": [
    {
     "name": "stdout",
     "output_type": "stream",
     "text": [
      "Матрица ошибок для логистической регресии (по тестовой выборке):\n",
      " [[44 18]\n",
      " [30 53]]\n"
     ]
    }
   ],
   "source": [
    "cm = mr.confusion_matrix(Y_test, y_pred)\n",
    "print('Матрица ошибок для логистической регресии (по тестовой выборке):\\n', cm)"
   ]
  },
  {
   "cell_type": "code",
   "execution_count": 478,
   "metadata": {},
   "outputs": [
    {
     "name": "stdout",
     "output_type": "stream",
     "text": [
      "Оценка для классификатора LogisticRegression:\n",
      " 0.6827586206896552\n"
     ]
    }
   ],
   "source": [
    "print('Оценка для классификатора LogisticRegression:\\n', classifier.score(X_test, Y_test))"
   ]
  },
  {
   "cell_type": "code",
   "execution_count": 477,
   "metadata": {},
   "outputs": [
    {
     "data": {
      "image/png": "[encoded data removed]",
      "text/plain": [
       "<Figure size 432x288 with 1 Axes>"
      ]
     },
     "metadata": {
      "needs_background": "light"
     },
     "output_type": "display_data"
    }
   ],
   "source": [
    "Y_pred_proba = classifier.predict_proba(X_test)[::,1]\n",
    "fpr, tpr, _ = mr.roc_curve(Y_test,  Y_pred_proba)\n",
    "auc = mr.roc_auc_score(Y_test, Y_pred_proba)\n",
    "plt.plot(fpr, tpr, label = \"data 1, auc = \" + str(auc))\n",
    "plt.legend(loc = 4)\n",
    "plt.show()"
   ]
  },
  {
   "cell_type": "markdown",
   "metadata": {},
   "source": [
    "## Random Forest"
   ]
  },
  {
   "cell_type": "code",
   "execution_count": 458,
   "metadata": {},
   "outputs": [],
   "source": [
    "rf_score = []\n",
    "rf_feat_importances = []\n",
    "rf_conf_matrices = []\n",
    "\n",
    "for i in range(2, 21):\n",
    "    classifier = RandomForestClassifier(n_estimators = i, max_features = 'sqrt')\n",
    "    classifier = classifier.fit(X_train, Y_train)\n",
    "    score = classifier.score(X_test, Y_test)\n",
    "    importance = classifier.feature_importances_\n",
    "    y_pred = classifier.predict(X_test)\n",
    "    rf_score.append(score)\n",
    "    rf_feat_importances.append(importance)\n",
    "    cm = mr.confusion_matrix(Y_test, y_pred)\n",
    "    rf_conf_matrices.append(cm)\n",
    "    \n",
    "rf_best_score = max(rf_score)\n",
    "rf_best_num_of_parameters = rf_score.index(rf_best_score) + 2\n",
    "rf_best_cm = rf_conf_matrices[best_num_of_parameters - 2]\n",
    "rf_optimal_importances = rf_feat_importances[best_num_of_parameters - 2]"
   ]
  },
  {
   "cell_type": "code",
   "execution_count": 234,
   "metadata": {},
   "outputs": [
    {
     "data": {
      "text/plain": [
       "20"
      ]
     },
     "execution_count": 234,
     "metadata": {},
     "output_type": "execute_result"
    }
   ],
   "source": [
    "#len(list(df.columns.values[:-1]))"
   ]
  },
  {
   "cell_type": "code",
   "execution_count": 235,
   "metadata": {},
   "outputs": [
    {
     "data": {
      "text/plain": [
       "20"
      ]
     },
     "execution_count": 235,
     "metadata": {},
     "output_type": "execute_result"
    }
   ],
   "source": [
    "#len(classifier.feature_importances_)"
   ]
  },
  {
   "cell_type": "code",
   "execution_count": 446,
   "metadata": {},
   "outputs": [],
   "source": [
    "features = pd.DataFrame()\n",
    "features['feature'] = list(df.columns.values[:-1])\n",
    "features['importance'] = list(rf_optimal_importances)\n",
    "features.sort_values(by = ['importance'], ascending = True, inplace = True)\n",
    "features.set_index('feature', inplace = True)"
   ]
  },
  {
   "cell_type": "code",
   "execution_count": 459,
   "metadata": {},
   "outputs": [
    {
     "name": "stdout",
     "output_type": "stream",
     "text": [
      "Лучшая оценка для классификатора RandomForest: 0.6896551724137931\n",
      "Оптимальное количество параметров: 13\n",
      "Матрица ошибок (для тестовой выборки):\n",
      " [[48 14]\n",
      " [43 40]]\n"
     ]
    }
   ],
   "source": [
    "print('Лучшая оценка для классификатора RandomForest:', rf_best_score)\n",
    "print('Оптимальное количество параметров:', rf_best_num_of_parameters)\n",
    "print('Матрица ошибок (для тестовой выборки):\\n', rf_best_cm)"
   ]
  },
  {
   "cell_type": "code",
   "execution_count": 460,
   "metadata": {},
   "outputs": [
    {
     "data": {
      "text/plain": [
       "<matplotlib.axes._subplots.AxesSubplot at 0x1ea9aab1a58>"
      ]
     },
     "execution_count": 460,
     "metadata": {},
     "output_type": "execute_result"
    },
    {
     "data": {
      "image/png": "[encoded data removed]",
      "text/plain": [
       "<Figure size 1800x576 with 2 Axes>"
      ]
     },
     "metadata": {},
     "output_type": "display_data"
    }
   ],
   "source": [
    "#colors = []\n",
    "#for i in range(21):\n",
    "    #if i < 13:\n",
    "        #colors.append('g')\n",
    "    #else:\n",
    "        #colors.append('r')\n",
    "fig, axes = plt.subplots(nrows = 1, ncols = 2)\n",
    "fig.suptitle('Значимость признаков при определении надежности заемщика')\n",
    "features[7:].plot(kind = 'barh', ax = axes[0], figsize = (10, 7), cmap = plt.get_cmap(\"summer\"))\n",
    "features[:7].plot(kind = 'barh', ax = axes[1], figsize = (25, 8), cmap = plt.get_cmap(\"autumn\"))"
   ]
  },
  {
   "cell_type": "markdown",
   "metadata": {},
   "source": [
    "## Градиентный бустинг"
   ]
  },
  {
   "cell_type": "code",
   "execution_count": 461,
   "metadata": {},
   "outputs": [],
   "source": [
    "gb_score = []\n",
    "gb_feat_importances = []\n",
    "gb_conf_matrices = []\n",
    "\n",
    "for i in range(2, 21):\n",
    "    classifier = GradientBoostingClassifier(n_estimators = i)\n",
    "    classifier = classifier.fit(X_train, Y_train)\n",
    "    score = classifier.score(X_test, Y_test)\n",
    "    importance = classifier.feature_importances_\n",
    "    y_pred = classifier.predict(X_test)\n",
    "    gb_score.append(score)\n",
    "    gb_feat_importances.append(importance)\n",
    "    cm = mr.confusion_matrix(Y_test, y_pred)\n",
    "    gb_conf_matrices.append(cm)\n",
    "    \n",
    "gb_best_score = max(gb_score)\n",
    "gb_best_num_of_parameters = gb_score.index(gb_best_score) + 2\n",
    "gb_best_cm = gb_conf_matrices[best_num_of_parameters - 2]\n",
    "gb_optimal_importances = gb_feat_importances[best_num_of_parameters - 2]"
   ]
  },
  {
   "cell_type": "code",
   "execution_count": 463,
   "metadata": {},
   "outputs": [],
   "source": [
    "features = pd.DataFrame()\n",
    "features['feature'] = list(df.columns.values[:-1])\n",
    "features['importance'] = list(gb_optimal_importances)\n",
    "features.sort_values(by = ['importance'], ascending = True, inplace = True)\n",
    "features.set_index('feature', inplace = True)"
   ]
  },
  {
   "cell_type": "code",
   "execution_count": 464,
   "metadata": {},
   "outputs": [
    {
     "name": "stdout",
     "output_type": "stream",
     "text": [
      "Лучшая оценка для классификатора GradientBoosting: 0.7310344827586207\n",
      "Оптимальное количество параметров: 8\n",
      "Матрица ошибок (для тестовой выборки):\n",
      " [[57  5]\n",
      " [34 49]]\n"
     ]
    }
   ],
   "source": [
    "print('Лучшая оценка для классификатора GradientBoosting:', gb_best_score)\n",
    "print('Оптимальное количество параметров:', gb_best_num_of_parameters)\n",
    "print('Матрица ошибок (для тестовой выборки):\\n', gb_best_cm)"
   ]
  },
  {
   "cell_type": "code",
   "execution_count": 465,
   "metadata": {},
   "outputs": [
    {
     "data": {
      "text/plain": [
       "<matplotlib.axes._subplots.AxesSubplot at 0x1ea9af9a400>"
      ]
     },
     "execution_count": 465,
     "metadata": {},
     "output_type": "execute_result"
    },
    {
     "data": {
      "image/png": "[encoded data removed]",
      "text/plain": [
       "<Figure size 1800x576 with 2 Axes>"
      ]
     },
     "metadata": {},
     "output_type": "display_data"
    }
   ],
   "source": [
    "fig, axes = plt.subplots(nrows = 1, ncols = 2)\n",
    "fig.suptitle('Значимость признаков при определении надежности заемщика')\n",
    "features[12:].plot(kind = 'barh', ax = axes[0], figsize = (10, 7), cmap = plt.get_cmap(\"summer\"))\n",
    "features[:12].plot(kind = 'barh', ax = axes[1], figsize = (25, 8), cmap = plt.get_cmap(\"autumn\"))"
   ]
  }
 ],
 "metadata": {
  "kernelspec": {
   "display_name": "Python 3",
   "language": "python",
   "name": "python3"
  },
  "language_info": {
   "codemirror_mode": {
    "name": "ipython",
    "version": 3
   },
   "file_extension": ".py",
   "mimetype": "text/x-python",
   "name": "python",
   "nbconvert_exporter": "python",
   "pygments_lexer": "ipython3",
   "version": "3.7.6"
  }
 },
 "nbformat": 4,
 "nbformat_minor": 2
}
